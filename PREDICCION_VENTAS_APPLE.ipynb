{
 "cells": [
  {
   "cell_type": "markdown",
   "id": "30886a75",
   "metadata": {},
   "source": [
    "# Practica 1. Análisis Predictivo\n",
    "## Predicción de Ventas de Apple con Modelos ETS y ARIMA\n",
    "## Isabel Marsa Martin"
   ]
  },
  {
   "cell_type": "markdown",
   "id": "9dff98f0",
   "metadata": {},
   "source": [
    "- ¿Los ingresos de Apple son estacionarios? ¿En media? ¿En varianza?\n",
    "- ¿Cuál es su tendencia? ¿y su componente estacional?\n",
    "- ¿Cuales son las ventas anuales de Apple?\n",
    "- ¿Cuales son los crecimientos anuales de los ingresos?\n",
    "- ¿Qué modelo predice mejor?\n",
    "- ¿Existe efecto COVID? Cuantificar.\n",
    "- ¿Cuales son las ventas acumuladas para el año 2021? ¿Y para el 2022? \n",
    "- ¿Son creíbles las predicciones del Barclays?"
   ]
  },
  {
   "cell_type": "markdown",
   "id": "4962ebb6",
   "metadata": {},
   "source": [
    "### Se aplicará la estimación y selección de modelos ETS y ARIMA y se determinará la precisión de las predicciones.\n"
   ]
  },
  {
   "cell_type": "markdown",
   "id": "e0d1077e",
   "metadata": {},
   "source": [
    "Importamos las librerías:"
   ]
  },
  {
   "cell_type": "code",
   "execution_count": 1,
   "id": "94ac9bb1",
   "metadata": {},
   "outputs": [],
   "source": [
    "import pandas as pd\n",
    "from datetime import datetime\n",
    "import numpy as np\n",
    "import matplotlib.pyplot as plt\n",
    "import statsmodels.api as sm\n",
    "\n",
    "from sktime.forecasting.base import ForecastingHorizon\n",
    "from sktime.utils.plotting import plot_series\n",
    "from sktime.forecasting.model_selection import temporal_train_test_split\n",
    "\n",
    "import warnings\n",
    "warnings.filterwarnings('ignore')"
   ]
  },
  {
   "cell_type": "markdown",
   "id": "01cba130",
   "metadata": {},
   "source": [
    "Lectura de los datos:"
   ]
  },
  {
   "cell_type": "code",
   "execution_count": 2,
   "id": "45ce2614",
   "metadata": {
    "scrolled": true
   },
   "outputs": [
    {
     "data": {
      "text/html": [
       "<div>\n",
       "<style scoped>\n",
       "    .dataframe tbody tr th:only-of-type {\n",
       "        vertical-align: middle;\n",
       "    }\n",
       "\n",
       "    .dataframe tbody tr th {\n",
       "        vertical-align: top;\n",
       "    }\n",
       "\n",
       "    .dataframe thead th {\n",
       "        text-align: right;\n",
       "    }\n",
       "</style>\n",
       "<table border=\"1\" class=\"dataframe\">\n",
       "  <thead>\n",
       "    <tr style=\"text-align: right;\">\n",
       "      <th></th>\n",
       "      <th>Trimeste</th>\n",
       "      <th>fecha</th>\n",
       "      <th>Ingresos</th>\n",
       "    </tr>\n",
       "  </thead>\n",
       "  <tbody>\n",
       "    <tr>\n",
       "      <th>0</th>\n",
       "      <td>Q1 1990</td>\n",
       "      <td>1989-12-29</td>\n",
       "      <td>1493.4</td>\n",
       "    </tr>\n",
       "    <tr>\n",
       "      <th>1</th>\n",
       "      <td>Q2 1990</td>\n",
       "      <td>1990-03-30</td>\n",
       "      <td>1346.2</td>\n",
       "    </tr>\n",
       "    <tr>\n",
       "      <th>2</th>\n",
       "      <td>Q3 1990</td>\n",
       "      <td>1990-06-29</td>\n",
       "      <td>1364.8</td>\n",
       "    </tr>\n",
       "    <tr>\n",
       "      <th>3</th>\n",
       "      <td>Q4 1990</td>\n",
       "      <td>1990-09-28</td>\n",
       "      <td>1354.1</td>\n",
       "    </tr>\n",
       "    <tr>\n",
       "      <th>4</th>\n",
       "      <td>Q1 1991</td>\n",
       "      <td>1990-12-28</td>\n",
       "      <td>1675.5</td>\n",
       "    </tr>\n",
       "  </tbody>\n",
       "</table>\n",
       "</div>"
      ],
      "text/plain": [
       "  Trimeste      fecha  Ingresos\n",
       "0  Q1 1990 1989-12-29    1493.4\n",
       "1  Q2 1990 1990-03-30    1346.2\n",
       "2  Q3 1990 1990-06-29    1364.8\n",
       "3  Q4 1990 1990-09-28    1354.1\n",
       "4  Q1 1991 1990-12-28    1675.5"
      ]
     },
     "execution_count": 2,
     "metadata": {},
     "output_type": "execute_result"
    }
   ],
   "source": [
    "aapl_df = pd.read_csv('aapl.csv',sep=';',decimal=\",\")\n",
    "aapl_df['fecha'] = pd.to_datetime(aapl_df['fecha'],format=\"%m/%d/%Y\")\n",
    "aapl_df.head()\n"
   ]
  },
  {
   "cell_type": "markdown",
   "id": "a5eef6a3",
   "metadata": {},
   "source": [
    "Teniendo en cuenta que el año fiscal de Apple empieza en octubre, añadiré 7 días en la variable fecha. La función resample entiende año natural por lo que haré esto para que al utilizar esta función más adelante, se identifique cada fecha con su trimestre correspondiente y así pueda hacer un análisis correcto:"
   ]
  },
  {
   "cell_type": "code",
   "execution_count": 3,
   "id": "32c64349",
   "metadata": {},
   "outputs": [],
   "source": [
    "import datetime\n",
    "aapl_df['fecha']=aapl_df['fecha']+datetime.timedelta(days=7)"
   ]
  },
  {
   "cell_type": "code",
   "execution_count": 4,
   "id": "46e90eb6",
   "metadata": {},
   "outputs": [],
   "source": [
    "#Fijamos la fecha como índice\n",
    "aapl_df = aapl_df.set_index('fecha')"
   ]
  },
  {
   "cell_type": "code",
   "execution_count": 5,
   "id": "f73e2de4",
   "metadata": {
    "scrolled": true
   },
   "outputs": [
    {
     "data": {
      "text/plain": [
       "0"
      ]
     },
     "execution_count": 5,
     "metadata": {},
     "output_type": "execute_result"
    }
   ],
   "source": [
    "# Observamos si hay datos missing\n",
    "len(aapl_df[pd.isna(aapl_df.Ingresos)])"
   ]
  },
  {
   "cell_type": "code",
   "execution_count": 6,
   "id": "f846b0d9",
   "metadata": {
    "scrolled": false
   },
   "outputs": [
    {
     "name": "stdout",
     "output_type": "stream",
     "text": [
      "<class 'pandas.core.frame.DataFrame'>\n",
      "DatetimeIndex: 127 entries, 1990-01-05 to 2021-07-03\n",
      "Data columns (total 2 columns):\n",
      " #   Column    Non-Null Count  Dtype  \n",
      "---  ------    --------------  -----  \n",
      " 0   Trimeste  127 non-null    object \n",
      " 1   Ingresos  127 non-null    float64\n",
      "dtypes: float64(1), object(1)\n",
      "memory usage: 3.0+ KB\n"
     ]
    }
   ],
   "source": [
    "# Analisis inicial del dataset\n",
    "aapl_df.info()\n",
    "#datos trimestrales desde el 1T de 1990 hasta el 2T del 2021\n",
    "#tenemos que predecir los ingresos del resto del año 2021 y del 2022 (6 trimestres)"
   ]
  },
  {
   "cell_type": "code",
   "execution_count": 7,
   "id": "7addda48",
   "metadata": {
    "scrolled": true
   },
   "outputs": [
    {
     "data": {
      "text/html": [
       "<div>\n",
       "<style scoped>\n",
       "    .dataframe tbody tr th:only-of-type {\n",
       "        vertical-align: middle;\n",
       "    }\n",
       "\n",
       "    .dataframe tbody tr th {\n",
       "        vertical-align: top;\n",
       "    }\n",
       "\n",
       "    .dataframe thead th {\n",
       "        text-align: right;\n",
       "    }\n",
       "</style>\n",
       "<table border=\"1\" class=\"dataframe\">\n",
       "  <thead>\n",
       "    <tr style=\"text-align: right;\">\n",
       "      <th></th>\n",
       "      <th>Ingresos</th>\n",
       "    </tr>\n",
       "  </thead>\n",
       "  <tbody>\n",
       "    <tr>\n",
       "      <th>count</th>\n",
       "      <td>127.000000</td>\n",
       "    </tr>\n",
       "    <tr>\n",
       "      <th>mean</th>\n",
       "      <td>21170.611811</td>\n",
       "    </tr>\n",
       "    <tr>\n",
       "      <th>std</th>\n",
       "      <td>27187.105328</td>\n",
       "    </tr>\n",
       "    <tr>\n",
       "      <th>min</th>\n",
       "      <td>1007.000000</td>\n",
       "    </tr>\n",
       "    <tr>\n",
       "      <th>25%</th>\n",
       "      <td>1726.500000</td>\n",
       "    </tr>\n",
       "    <tr>\n",
       "      <th>50%</th>\n",
       "      <td>3520.000000</td>\n",
       "    </tr>\n",
       "    <tr>\n",
       "      <th>75%</th>\n",
       "      <td>42240.500000</td>\n",
       "    </tr>\n",
       "    <tr>\n",
       "      <th>max</th>\n",
       "      <td>111439.000000</td>\n",
       "    </tr>\n",
       "  </tbody>\n",
       "</table>\n",
       "</div>"
      ],
      "text/plain": [
       "            Ingresos\n",
       "count     127.000000\n",
       "mean    21170.611811\n",
       "std     27187.105328\n",
       "min      1007.000000\n",
       "25%      1726.500000\n",
       "50%      3520.000000\n",
       "75%     42240.500000\n",
       "max    111439.000000"
      ]
     },
     "execution_count": 7,
     "metadata": {},
     "output_type": "execute_result"
    }
   ],
   "source": [
    "aapl_df.describe()"
   ]
  },
  {
   "cell_type": "raw",
   "id": "95063f39",
   "metadata": {},
   "source": [
    "aapl_df['Ingresos']=aapl_df['Ingresos'].fillna(aapl_df['Ingresos'].mean())\n",
    "aapl_df['Trimeste']=aapl_df['Trimeste'].fillna('Q4 2005')\n"
   ]
  },
  {
   "cell_type": "code",
   "execution_count": 8,
   "id": "09abd8a8",
   "metadata": {
    "scrolled": true
   },
   "outputs": [],
   "source": [
    "# Me quedo con la variable Ingresos\n",
    "aapl_df=aapl_df[\"Ingresos\"]"
   ]
  },
  {
   "cell_type": "code",
   "execution_count": 12,
   "id": "ec45fb81",
   "metadata": {
    "scrolled": true
   },
   "outputs": [
    {
     "data": {
      "text/plain": [
       "fecha\n",
       "2020-09-30     59685.0\n",
       "2020-12-31     64698.0\n",
       "2021-03-31    111439.0\n",
       "2021-06-30     89584.0\n",
       "2021-09-30     81434.0\n",
       "Freq: Q-DEC, Name: Ingresos, dtype: float64"
      ]
     },
     "execution_count": 12,
     "metadata": {},
     "output_type": "execute_result"
    }
   ],
   "source": [
    "# Convertimos en trimestrales los datos de la variable ingresos\n",
    "aapl_dfs=aapl_df.resample(\"q\").last()\n",
    "aapl_dfs.tail()"
   ]
  },
  {
   "cell_type": "code",
   "execution_count": 13,
   "id": "020f8fdd",
   "metadata": {},
   "outputs": [
    {
     "data": {
      "text/plain": [
       "1"
      ]
     },
     "execution_count": 13,
     "metadata": {},
     "output_type": "execute_result"
    }
   ],
   "source": [
    "len(aapl_dfs[pd.isna(aapl_dfs)])"
   ]
  },
  {
   "cell_type": "code",
   "execution_count": 14,
   "id": "ce7cd0cd",
   "metadata": {},
   "outputs": [],
   "source": [
    "# Quito los NAs remplazandolos por la media de ingresos\n",
    "aapl_dfs=aapl_dfs.fillna(aapl_dfs.median())"
   ]
  },
  {
   "cell_type": "code",
   "execution_count": 21,
   "id": "1468d928",
   "metadata": {
    "scrolled": true
   },
   "outputs": [
    {
     "data": {
      "text/plain": [
       "fecha\n",
       "2020Q3     59685.0\n",
       "2020Q4     64698.0\n",
       "2021Q1    111439.0\n",
       "2021Q2     89584.0\n",
       "2021Q3     81434.0\n",
       "Freq: Q-DEC, Name: Ingresos, dtype: float64"
      ]
     },
     "execution_count": 21,
     "metadata": {},
     "output_type": "execute_result"
    }
   ],
   "source": [
    "# Resample to Quarterly II\n",
    "# SKtime \n",
    "aapl_dfsq=aapl_df.astype('float64').to_period('Q').sort_index()\n",
    "aapl_dfsq.tail()"
   ]
  },
  {
   "cell_type": "code",
   "execution_count": 22,
   "id": "9742c8b9",
   "metadata": {},
   "outputs": [],
   "source": [
    "# Quito una fila repetida (Q12022)\n",
    "aapl_dfsq = aapl_dfsq[~aapl_dfsq.index.duplicated(keep='first')]"
   ]
  },
  {
   "cell_type": "code",
   "execution_count": 24,
   "id": "118b0fd0",
   "metadata": {},
   "outputs": [],
   "source": [
    "import seaborn as sns\n",
    "# Use seaborn style defaults and set the default figure size\n",
    "sns.set(rc={'figure.figsize':(11, 4)})\n"
   ]
  },
  {
   "cell_type": "code",
   "execution_count": 25,
   "id": "154d1161",
   "metadata": {},
   "outputs": [],
   "source": [
    "#Usando Sktime\n",
    "from sktime.utils.plotting import plot_series"
   ]
  },
  {
   "cell_type": "code",
   "execution_count": 26,
   "id": "64c8be49",
   "metadata": {
    "scrolled": true
   },
   "outputs": [
    {
     "data": {
      "text/plain": [
       "Text(0.5, 1.0, 'Ventas Apple: Serie Original')"
      ]
     },
     "execution_count": 26,
     "metadata": {},
     "output_type": "execute_result"
    },
    {
     "data": {
      "image/png": "[encoded data removed]",
      "text/plain": [
       "<Figure size 1152x288 with 1 Axes>"
      ]
     },
     "metadata": {},
     "output_type": "display_data"
    }
   ],
   "source": [
    "plot_series(aapl_dfsq, labels=[\"Ingresos\"])\n",
    "plt.title('Ventas Apple: Serie Original')"
   ]
  },
  {
   "cell_type": "code",
   "execution_count": 27,
   "id": "457366ec",
   "metadata": {},
   "outputs": [
    {
     "data": {
      "text/plain": [
       "Text(0.5, 1.0, 'Comportamiento Estacional')"
      ]
     },
     "execution_count": 27,
     "metadata": {},
     "output_type": "execute_result"
    },
    {
     "data": {
      "image/png": "[encoded data removed]",
      "text/plain": [
       "<Figure size 792x288 with 1 Axes>"
      ]
     },
     "metadata": {},
     "output_type": "display_data"
    }
   ],
   "source": [
    "# Gráfico estacional\n",
    "ax = plt.gca()\n",
    "sm.graphics.tsa.quarter_plot(aapl_dfs,ax=ax)\n",
    "ax.set_title('Comportamiento Estacional')"
   ]
  },
  {
   "cell_type": "code",
   "execution_count": 28,
   "id": "93442730",
   "metadata": {},
   "outputs": [],
   "source": [
    "# Log Transformer\n",
    "from sktime.transformations.series.boxcox import LogTransformer"
   ]
  },
  {
   "cell_type": "code",
   "execution_count": 29,
   "id": "25dd713c",
   "metadata": {},
   "outputs": [
    {
     "data": {
      "text/plain": [
       "2020Q3    10.996836\n",
       "2020Q4    11.077486\n",
       "2021Q1    11.621233\n",
       "2021Q2    11.402932\n",
       "2021Q3    11.307548\n",
       "Freq: Q-DEC, dtype: float64"
      ]
     },
     "execution_count": 29,
     "metadata": {},
     "output_type": "execute_result"
    }
   ],
   "source": [
    "# Aplico Log Transformer para estabilizar la varianza de los datos y normalizarlos\n",
    "# Transformacion log aplicada como ln(y)\n",
    "transformer = LogTransformer()\n",
    "log_ap_ts= transformer.fit_transform(aapl_dfsq)\n",
    "log_ap_ts.tail()"
   ]
  },
  {
   "cell_type": "markdown",
   "id": "b2a6f14d",
   "metadata": {},
   "source": [
    "#### ETS Models"
   ]
  },
  {
   "cell_type": "markdown",
   "id": "ba2a13c1",
   "metadata": {},
   "source": [
    "A continuación seleccionaremos la muestra de entrenamiento (train) y test. Intentaremos predecir y_test y haremos un gráfico con los datos originales y transformados (log)."
   ]
  },
  {
   "cell_type": "code",
   "execution_count": 30,
   "id": "ae5f8bec",
   "metadata": {},
   "outputs": [],
   "source": [
    "# Sktime \n",
    "from sktime.forecasting.base import ForecastingHorizon\n",
    "from sktime.forecasting.model_selection import temporal_train_test_split"
   ]
  },
  {
   "cell_type": "code",
   "execution_count": 31,
   "id": "534dea69",
   "metadata": {},
   "outputs": [
    {
     "name": "stdout",
     "output_type": "stream",
     "text": [
      "118 8\n"
     ]
    },
    {
     "data": {
      "image/png": "[encoded data removed]",
      "text/plain": [
       "<Figure size 1152x288 with 1 Axes>"
      ]
     },
     "metadata": {},
     "output_type": "display_data"
    }
   ],
   "source": [
    "n_test=8\n",
    "n_forecast=8\n",
    "y_train, y_test = temporal_train_test_split(y =aapl_dfsq, test_size=8)\n",
    "log_y_train, log_y_test = temporal_train_test_split(y =log_ap_ts, test_size=n_test)\n",
    "plot_series(y_train, y_test, labels=[\"Train\", \"Test\"])\n",
    "\n",
    "# Tamaño Time Series\n",
    "print(y_train.shape[0], y_test.shape[0])\n"
   ]
  },
  {
   "cell_type": "code",
   "execution_count": 32,
   "id": "866f3fb7",
   "metadata": {},
   "outputs": [],
   "source": [
    "from sktime.forecasting.ets import AutoETS"
   ]
  },
  {
   "cell_type": "code",
   "execution_count": 34,
   "id": "5823f5aa",
   "metadata": {},
   "outputs": [],
   "source": [
    "# horizonte de prediccion\n",
    "fh= np.arange(len(y_test)) + 1"
   ]
  },
  {
   "cell_type": "code",
   "execution_count": 35,
   "id": "0ec06459",
   "metadata": {},
   "outputs": [],
   "source": [
    "# especificamos el algoritmo de prediccion - AutoETS\n",
    "ap_autoETS_model = AutoETS(auto=True, sp=4, n_jobs=-1) #4 periodos de estacionalidad"
   ]
  },
  {
   "cell_type": "code",
   "execution_count": 36,
   "id": "d40aa68c",
   "metadata": {},
   "outputs": [
    {
     "data": {
      "text/plain": [
       "AutoETS(auto=True, n_jobs=-1, sp=4)"
      ]
     },
     "execution_count": 36,
     "metadata": {},
     "output_type": "execute_result"
    }
   ],
   "source": [
    "ap_autoETS_model.fit(y_train)"
   ]
  },
  {
   "cell_type": "code",
   "execution_count": 38,
   "id": "789df89f",
   "metadata": {},
   "outputs": [
    {
     "name": "stdout",
     "output_type": "stream",
     "text": [
      "                                 ETS Results                                  \n",
      "==============================================================================\n",
      "Dep. Variable:               Ingresos   No. Observations:                  118\n",
      "Model:                       ETS(MAM)   Log Likelihood                -966.643\n",
      "Date:                Mon, 10 Oct 2022   AIC                           1953.287\n",
      "Time:                        13:44:50   BIC                           1980.994\n",
      "Sample:                    03-31-1990   HQIC                          1964.537\n",
      "                         - 09-30-2019   Scale                            0.020\n",
      "Covariance Type:               approx                                         \n",
      "======================================================================================\n",
      "                         coef    std err          z      P>|z|      [0.025      0.975]\n",
      "--------------------------------------------------------------------------------------\n",
      "smoothing_level        0.4453      0.061      7.335      0.000       0.326       0.564\n",
      "smoothing_trend        0.1696      0.036      4.720      0.000       0.099       0.240\n",
      "smoothing_seasonal     0.3512      0.068      5.161      0.000       0.218       0.485\n",
      "initial_level       1370.9325    631.938      2.169      0.030     132.358    2609.507\n",
      "initial_trend         46.0331    104.526      0.440      0.660    -158.834     250.900\n",
      "initial_seasonal.0     0.8655      0.416      2.079      0.038       0.050       1.681\n",
      "initial_seasonal.1     0.8904      0.426      2.090      0.037       0.055       1.725\n",
      "initial_seasonal.2     0.9186      0.438      2.096      0.036       0.060       1.778\n",
      "initial_seasonal.3     1.0000      0.467      2.142      0.032       0.085       1.915\n",
      "===================================================================================\n",
      "Ljung-Box (Q):                        5.71   Jarque-Bera (JB):                82.14\n",
      "Prob(Q):                              0.68   Prob(JB):                         0.00\n",
      "Heteroskedasticity (H):               1.44   Skew:                            -0.22\n",
      "Prob(H) (two-sided):                  0.26   Kurtosis:                         7.06\n",
      "===================================================================================\n",
      "\n",
      "Warnings:\n",
      "[1] Covariance matrix calculated using numerical (complex-step) differentiation.\n"
     ]
    }
   ],
   "source": [
    "print(ap_autoETS_model.summary())"
   ]
  },
  {
   "cell_type": "code",
   "execution_count": 39,
   "id": "97ee24dc",
   "metadata": {
    "scrolled": true
   },
   "outputs": [
    {
     "name": "stdout",
     "output_type": "stream",
     "text": [
      "2019Q4    86030.366600\n",
      "2020Q1    59917.127492\n",
      "2020Q2    53254.895213\n",
      "2020Q3    58507.036792\n",
      "2020Q4    85956.439438\n",
      "2021Q1    59865.628757\n",
      "2021Q2    53209.112826\n",
      "2021Q3    58456.728409\n",
      "Freq: Q-DEC, dtype: float64\n"
     ]
    }
   ],
   "source": [
    "ap_ETS_pred = ap_autoETS_model.predict(fh)\n",
    "print(ap_ETS_pred)"
   ]
  },
  {
   "cell_type": "code",
   "execution_count": 40,
   "id": "aad351e2",
   "metadata": {
    "scrolled": false
   },
   "outputs": [
    {
     "data": {
      "text/plain": [
       "Text(0.5, 1.0, 'Prediccion Ventas con ETS')"
      ]
     },
     "execution_count": 40,
     "metadata": {},
     "output_type": "execute_result"
    },
    {
     "data": {
      "image/png": "[encoded data removed]",
      "text/plain": [
       "<Figure size 1152x288 with 1 Axes>"
      ]
     },
     "metadata": {},
     "output_type": "display_data"
    }
   ],
   "source": [
    "fig, ax= plot_series(y_train[\"2015\":], ap_ETS_pred,y_test, labels=[\"Apple\", \"Predicción Apple ETS\", \"Real Apple\"])\n",
    "ax.set_title('Prediccion Ventas con ETS')"
   ]
  },
  {
   "cell_type": "markdown",
   "id": "28cdd063",
   "metadata": {},
   "source": [
    "#### ARIMA"
   ]
  },
  {
   "cell_type": "code",
   "execution_count": 43,
   "id": "1b669afe",
   "metadata": {},
   "outputs": [],
   "source": [
    "from sktime.forecasting.arima import AutoARIMA"
   ]
  },
  {
   "cell_type": "code",
   "execution_count": 44,
   "id": "c7b76daf",
   "metadata": {},
   "outputs": [],
   "source": [
    "#Auto ARIMA \n",
    "forecaster = AutoARIMA(sp=4,suppress_warnings=True)"
   ]
  },
  {
   "cell_type": "code",
   "execution_count": 45,
   "id": "218e1c0e",
   "metadata": {},
   "outputs": [
    {
     "data": {
      "text/plain": [
       "AutoARIMA(sp=4, suppress_warnings=True)"
      ]
     },
     "execution_count": 45,
     "metadata": {},
     "output_type": "execute_result"
    }
   ],
   "source": [
    "forecaster.fit(log_y_train)"
   ]
  },
  {
   "cell_type": "code",
   "execution_count": 46,
   "id": "bb9df29f",
   "metadata": {},
   "outputs": [
    {
     "name": "stdout",
     "output_type": "stream",
     "text": [
      "                                      SARIMAX Results                                      \n",
      "===========================================================================================\n",
      "Dep. Variable:                                   y   No. Observations:                  118\n",
      "Model:             SARIMAX(2, 1, 3)x(1, 0, [1], 4)   Log Likelihood                  55.826\n",
      "Date:                             Mon, 10 Oct 2022   AIC                            -95.652\n",
      "Time:                                     13:45:57   BIC                            -73.554\n",
      "Sample:                                 03-31-1990   HQIC                           -86.680\n",
      "                                      - 09-30-2019                                         \n",
      "Covariance Type:                               opg                                         \n",
      "==============================================================================\n",
      "                 coef    std err          z      P>|z|      [0.025      0.975]\n",
      "------------------------------------------------------------------------------\n",
      "ar.L1         -0.3007      0.062     -4.865      0.000      -0.422      -0.180\n",
      "ar.L2         -0.9798      0.079    -12.450      0.000      -1.134      -0.826\n",
      "ma.L1         -0.0662      0.122     -0.542      0.588      -0.306       0.173\n",
      "ma.L2          0.8683      0.148      5.849      0.000       0.577       1.159\n",
      "ma.L3         -0.3067      0.111     -2.753      0.006      -0.525      -0.088\n",
      "ar.S.L4        0.9545      0.064     14.886      0.000       0.829       1.080\n",
      "ma.S.L4       -0.5887      0.160     -3.684      0.000      -0.902      -0.276\n",
      "sigma2         0.0216      0.002     10.804      0.000       0.018       0.026\n",
      "===================================================================================\n",
      "Ljung-Box (L1) (Q):                   0.12   Jarque-Bera (JB):               555.16\n",
      "Prob(Q):                              0.73   Prob(JB):                         0.00\n",
      "Heteroskedasticity (H):               1.40   Skew:                            -1.41\n",
      "Prob(H) (two-sided):                  0.30   Kurtosis:                        13.29\n",
      "===================================================================================\n",
      "\n",
      "Warnings:\n",
      "[1] Covariance matrix calculated using the outer product of gradients (complex-step).\n"
     ]
    }
   ],
   "source": [
    "print(forecaster.summary())"
   ]
  },
  {
   "cell_type": "code",
   "execution_count": 47,
   "id": "1c65b10d",
   "metadata": {
    "scrolled": true
   },
   "outputs": [
    {
     "data": {
      "text/plain": [
       "2019Q4    11.312125\n",
       "2020Q1    11.023250\n",
       "2020Q2    10.969271\n",
       "2020Q3    11.034301\n",
       "2020Q4    11.324394\n",
       "2021Q1    11.085722\n",
       "2021Q2    11.023245\n",
       "2021Q3          NaN\n",
       "Freq: Q-DEC, dtype: float64"
      ]
     },
     "execution_count": 47,
     "metadata": {},
     "output_type": "execute_result"
    }
   ],
   "source": [
    "#Auto ARIMA Forecast LOG\n",
    "log_y_pred = forecaster.predict(fh)\n",
    "log_y_pred"
   ]
  },
  {
   "cell_type": "code",
   "execution_count": 48,
   "id": "583595ee",
   "metadata": {},
   "outputs": [
    {
     "data": {
      "text/plain": [
       "2019Q4    81807.579727\n",
       "2020Q1    61282.550586\n",
       "2020Q2    58062.224079\n",
       "2020Q3    61963.492529\n",
       "2020Q4    82817.464041\n",
       "2021Q1    65233.082536\n",
       "2021Q2    61282.195539\n",
       "2021Q3             NaN\n",
       "Freq: Q-DEC, dtype: float64"
      ]
     },
     "execution_count": 48,
     "metadata": {},
     "output_type": "execute_result"
    }
   ],
   "source": [
    "# Predicción Auto ARIMA \n",
    "ap_ARIMA_pred=np.exp(log_y_pred)\n",
    "ap_ARIMA_pred"
   ]
  },
  {
   "cell_type": "code",
   "execution_count": 49,
   "id": "d074d204",
   "metadata": {},
   "outputs": [
    {
     "data": {
      "text/plain": [
       "Text(0.5, 1.0, 'Predicción con ARIMA')"
      ]
     },
     "execution_count": 49,
     "metadata": {},
     "output_type": "execute_result"
    },
    {
     "data": {
      "image/png": "[encoded data removed]",
      "text/plain": [
       "<Figure size 1152x288 with 1 Axes>"
      ]
     },
     "metadata": {},
     "output_type": "display_data"
    }
   ],
   "source": [
    "fig, ax=plot_series(y_train[\"2015\":], ap_ARIMA_pred,y_test, labels=[\"Apple\", \"Prediccion ARIMA\", \"Real Apple\"])\n",
    "ax.set_title('Predicción con ARIMA')"
   ]
  },
  {
   "cell_type": "code",
   "execution_count": 50,
   "id": "02b72e6d",
   "metadata": {},
   "outputs": [
    {
     "data": {
      "text/plain": [
       "Text(0.5, 1.0, 'Comparación Modelos ETS y ARIMA')"
      ]
     },
     "execution_count": 50,
     "metadata": {},
     "output_type": "execute_result"
    },
    {
     "data": {
      "image/png": "[encoded data removed]",
      "text/plain": [
       "<Figure size 1152x288 with 1 Axes>"
      ]
     },
     "metadata": {},
     "output_type": "display_data"
    }
   ],
   "source": [
    "# Comparación modelos ETS y ARIMA\n",
    "fig,ax=plot_series(y_train[\"2015\":], ap_ETS_pred,ap_ARIMA_pred,y_test, labels=['Apple', 'Prediccion ETS','Prediccion ARIMA', 'Real Apple'])\n",
    "ax.set_title('Comparación Modelos ETS y ARIMA')"
   ]
  },
  {
   "cell_type": "code",
   "execution_count": 51,
   "id": "6051ea26",
   "metadata": {},
   "outputs": [
    {
     "data": {
      "text/html": [
       "<div>\n",
       "<style scoped>\n",
       "    .dataframe tbody tr th:only-of-type {\n",
       "        vertical-align: middle;\n",
       "    }\n",
       "\n",
       "    .dataframe tbody tr th {\n",
       "        vertical-align: top;\n",
       "    }\n",
       "\n",
       "    .dataframe thead th {\n",
       "        text-align: right;\n",
       "    }\n",
       "</style>\n",
       "<table border=\"1\" class=\"dataframe\">\n",
       "  <thead>\n",
       "    <tr style=\"text-align: right;\">\n",
       "      <th></th>\n",
       "      <th>APPLE</th>\n",
       "      <th>ETS</th>\n",
       "      <th>ARIMA</th>\n",
       "    </tr>\n",
       "  </thead>\n",
       "  <tbody>\n",
       "    <tr>\n",
       "      <th>2019Q4</th>\n",
       "      <td>64040.0</td>\n",
       "      <td>86030.366600</td>\n",
       "      <td>81807.579727</td>\n",
       "    </tr>\n",
       "    <tr>\n",
       "      <th>2020Q1</th>\n",
       "      <td>91819.0</td>\n",
       "      <td>59917.127492</td>\n",
       "      <td>61282.550586</td>\n",
       "    </tr>\n",
       "    <tr>\n",
       "      <th>2020Q2</th>\n",
       "      <td>58313.0</td>\n",
       "      <td>53254.895213</td>\n",
       "      <td>58062.224079</td>\n",
       "    </tr>\n",
       "    <tr>\n",
       "      <th>2020Q3</th>\n",
       "      <td>59685.0</td>\n",
       "      <td>58507.036792</td>\n",
       "      <td>61963.492529</td>\n",
       "    </tr>\n",
       "    <tr>\n",
       "      <th>2020Q4</th>\n",
       "      <td>64698.0</td>\n",
       "      <td>85956.439438</td>\n",
       "      <td>82817.464041</td>\n",
       "    </tr>\n",
       "    <tr>\n",
       "      <th>2021Q1</th>\n",
       "      <td>111439.0</td>\n",
       "      <td>59865.628757</td>\n",
       "      <td>65233.082536</td>\n",
       "    </tr>\n",
       "    <tr>\n",
       "      <th>2021Q2</th>\n",
       "      <td>89584.0</td>\n",
       "      <td>53209.112826</td>\n",
       "      <td>61282.195539</td>\n",
       "    </tr>\n",
       "    <tr>\n",
       "      <th>2021Q3</th>\n",
       "      <td>81434.0</td>\n",
       "      <td>58456.728409</td>\n",
       "      <td>NaN</td>\n",
       "    </tr>\n",
       "  </tbody>\n",
       "</table>\n",
       "</div>"
      ],
      "text/plain": [
       "           APPLE           ETS         ARIMA\n",
       "2019Q4   64040.0  86030.366600  81807.579727\n",
       "2020Q1   91819.0  59917.127492  61282.550586\n",
       "2020Q2   58313.0  53254.895213  58062.224079\n",
       "2020Q3   59685.0  58507.036792  61963.492529\n",
       "2020Q4   64698.0  85956.439438  82817.464041\n",
       "2021Q1  111439.0  59865.628757  65233.082536\n",
       "2021Q2   89584.0  53209.112826  61282.195539\n",
       "2021Q3   81434.0  58456.728409           NaN"
      ]
     },
     "execution_count": 51,
     "metadata": {},
     "output_type": "execute_result"
    }
   ],
   "source": [
    "prediccion=pd.concat([y_test,ap_ETS_pred,ap_ARIMA_pred],axis=1)\n",
    "prediccion.columns=[\"APPLE\", 'ETS','ARIMA']\n",
    "prediccion\n",
    "#NaN el 2021Q3"
   ]
  },
  {
   "cell_type": "code",
   "execution_count": 52,
   "id": "cf3d8541",
   "metadata": {},
   "outputs": [],
   "source": [
    "from sktime.performance_metrics.forecasting import mean_absolute_percentage_error\n",
    "from sktime.performance_metrics.forecasting import MeanSquaredError"
   ]
  },
  {
   "cell_type": "code",
   "execution_count": 57,
   "id": "1ddbb335",
   "metadata": {},
   "outputs": [
    {
     "data": {
      "text/plain": [
       "0.2846099326241587"
      ]
     },
     "execution_count": 57,
     "metadata": {},
     "output_type": "execute_result"
    }
   ],
   "source": [
    "##ETS\n",
    "#Precision: MAPE\n",
    "\n",
    "mean_absolute_percentage_error(y_test, ap_ETS_pred)"
   ]
  },
  {
   "cell_type": "code",
   "execution_count": 58,
   "id": "abdbb0a2",
   "metadata": {},
   "outputs": [],
   "source": [
    "#Remplazo el nan por la mediana de los datos\n",
    "ap_ARIMA_pred=ap_ARIMA_pred.fillna(ap_ARIMA_pred.median())"
   ]
  },
  {
   "cell_type": "code",
   "execution_count": 59,
   "id": "40ca49b5",
   "metadata": {},
   "outputs": [
    {
     "data": {
      "text/plain": [
       "0.23777565939474082"
      ]
     },
     "execution_count": 59,
     "metadata": {},
     "output_type": "execute_result"
    }
   ],
   "source": [
    "## ARIMA\n",
    "#Precision: MAPE\n",
    "mean_absolute_percentage_error(y_test, ap_ARIMA_pred)"
   ]
  },
  {
   "cell_type": "code",
   "execution_count": 60,
   "id": "c7961116",
   "metadata": {},
   "outputs": [
    {
     "data": {
      "text/plain": [
       "28484.86222875093"
      ]
     },
     "execution_count": 60,
     "metadata": {},
     "output_type": "execute_result"
    }
   ],
   "source": [
    "##ETS\n",
    "#Precision: MSE\n",
    "rmse = MeanSquaredError(square_root=True)\n",
    "rmse(y_test, ap_ETS_pred)"
   ]
  },
  {
   "cell_type": "code",
   "execution_count": 72,
   "id": "f3988177",
   "metadata": {},
   "outputs": [],
   "source": [
    "ap_ARIMA_pred=ap_ARIMA_pred.fillna(ap_ARIMA_pred.median())"
   ]
  },
  {
   "cell_type": "code",
   "execution_count": 73,
   "id": "40795441",
   "metadata": {},
   "outputs": [
    {
     "data": {
      "text/plain": [
       "24740.68165919816"
      ]
     },
     "execution_count": 73,
     "metadata": {},
     "output_type": "execute_result"
    }
   ],
   "source": [
    "##ARIMA\n",
    "#Precision: MAPE\n",
    "rmse = MeanSquaredError(square_root=True)\n",
    "rmse(y_test, ap_ARIMA_pred)"
   ]
  },
  {
   "cell_type": "code",
   "execution_count": 61,
   "id": "8b8807a0",
   "metadata": {
    "scrolled": true
   },
   "outputs": [
    {
     "name": "stdout",
     "output_type": "stream",
     "text": [
      "                                 ETS Results                                  \n",
      "==============================================================================\n",
      "Dep. Variable:               Ingresos   No. Observations:                  126\n",
      "Model:                       ETS(MAM)   Log Likelihood               -1050.949\n",
      "Date:                Mon, 10 Oct 2022   AIC                           2121.898\n",
      "Time:                        13:47:54   BIC                           2150.261\n",
      "Sample:                    03-31-1990   HQIC                          2133.421\n",
      "                         - 09-30-2021   Scale                            0.020\n",
      "Covariance Type:               approx                                         \n",
      "======================================================================================\n",
      "                         coef    std err          z      P>|z|      [0.025      0.975]\n",
      "--------------------------------------------------------------------------------------\n",
      "smoothing_level        0.4521      0.061      7.418      0.000       0.333       0.572\n",
      "smoothing_trend        0.1717      0.036      4.771      0.000       0.101       0.242\n",
      "smoothing_seasonal     0.3339      0.065      5.129      0.000       0.206       0.462\n",
      "initial_level       1370.9325    628.612      2.181      0.029     138.876    2602.989\n",
      "initial_trend         46.0330    104.615      0.440      0.660    -159.008     251.074\n",
      "initial_seasonal.0     0.8689      0.415      2.094      0.036       0.055       1.682\n",
      "initial_seasonal.1     0.8910      0.424      2.103      0.035       0.061       1.721\n",
      "initial_seasonal.2     0.9182      0.435      2.109      0.035       0.065       1.772\n",
      "initial_seasonal.3     1.0000      0.465      2.153      0.031       0.090       1.910\n",
      "===================================================================================\n",
      "Ljung-Box (Q):                        6.43   Jarque-Bera (JB):                82.90\n",
      "Prob(Q):                              0.60   Prob(JB):                         0.00\n",
      "Heteroskedasticity (H):               0.87   Skew:                            -0.20\n",
      "Prob(H) (two-sided):                  0.64   Kurtosis:                         6.95\n",
      "===================================================================================\n",
      "\n",
      "Warnings:\n",
      "[1] Covariance matrix calculated using numerical (complex-step) differentiation.\n"
     ]
    }
   ],
   "source": [
    "#ETS Modelo\n",
    "fh = np.arange(1, 7)\n",
    "ap_ETS_model = AutoETS(auto=True, sp=4, n_jobs=-1) \n",
    "ap_ETS_model.fit(aapl_dfsq) \n",
    "print(ap_ETS_model.summary())"
   ]
  },
  {
   "cell_type": "code",
   "execution_count": 75,
   "id": "a2343e64",
   "metadata": {},
   "outputs": [
    {
     "name": "stdout",
     "output_type": "stream",
     "text": [
      "2021Q4    153775.649432\n",
      "2022Q1    111698.002193\n",
      "2022Q2    104005.517590\n",
      "2022Q3    119908.805341\n",
      "2022Q4    191504.631418\n",
      "2023Q1    137519.375077\n",
      "Freq: Q-DEC, dtype: float64\n"
     ]
    }
   ],
   "source": [
    "# ETS\n",
    "ap_ETS_pred = ap_ETS_model.predict(fh) \n",
    "print(ap_ETS_pred)"
   ]
  },
  {
   "cell_type": "code",
   "execution_count": 76,
   "id": "8198cab4",
   "metadata": {},
   "outputs": [
    {
     "name": "stdout",
     "output_type": "stream",
     "text": [
      "                                 ETS Results                                  \n",
      "==============================================================================\n",
      "Dep. Variable:               Ingresos   No. Observations:                  126\n",
      "Model:                       ETS(MAM)   Log Likelihood               -1050.949\n",
      "Date:                Mon, 10 Oct 2022   AIC                           2121.898\n",
      "Time:                        13:18:08   BIC                           2150.261\n",
      "Sample:                    03-31-1990   HQIC                          2133.421\n",
      "                         - 09-30-2021   Scale                            0.020\n",
      "Covariance Type:               approx                                         \n",
      "======================================================================================\n",
      "                         coef    std err          z      P>|z|      [0.025      0.975]\n",
      "--------------------------------------------------------------------------------------\n",
      "smoothing_level        0.4521      0.061      7.418      0.000       0.333       0.572\n",
      "smoothing_trend        0.1717      0.036      4.771      0.000       0.101       0.242\n",
      "smoothing_seasonal     0.3339      0.065      5.129      0.000       0.206       0.462\n",
      "initial_level       1370.9325    628.612      2.181      0.029     138.876    2602.989\n",
      "initial_trend         46.0330    104.615      0.440      0.660    -159.008     251.074\n",
      "initial_seasonal.0     0.8689      0.415      2.094      0.036       0.055       1.682\n",
      "initial_seasonal.1     0.8910      0.424      2.103      0.035       0.061       1.721\n",
      "initial_seasonal.2     0.9182      0.435      2.109      0.035       0.065       1.772\n",
      "initial_seasonal.3     1.0000      0.465      2.153      0.031       0.090       1.910\n",
      "===================================================================================\n",
      "Ljung-Box (Q):                        6.43   Jarque-Bera (JB):                82.90\n",
      "Prob(Q):                              0.60   Prob(JB):                         0.00\n",
      "Heteroskedasticity (H):               0.87   Skew:                            -0.20\n",
      "Prob(H) (two-sided):                  0.64   Kurtosis:                         6.95\n",
      "===================================================================================\n",
      "\n",
      "Warnings:\n",
      "[1] Covariance matrix calculated using numerical (complex-step) differentiation.\n"
     ]
    }
   ],
   "source": [
    "# ETS Modelo\n",
    "fh = np.arange(1, 7)\n",
    "ap_ETS_model = AutoETS(auto=True, sp=4, n_jobs=-1) \n",
    "ap_ETS_model.fit(aapl_dfsq) \n",
    "print(ap_ETS_model.summary())"
   ]
  },
  {
   "cell_type": "code",
   "execution_count": 77,
   "id": "d431cb3c",
   "metadata": {},
   "outputs": [
    {
     "name": "stdout",
     "output_type": "stream",
     "text": [
      "2021Q4    153775.649432\n",
      "2022Q1    111698.002193\n",
      "2022Q2    104005.517590\n",
      "2022Q3    119908.805341\n",
      "2022Q4    191504.631418\n",
      "2023Q1    137519.375077\n",
      "Freq: Q-DEC, dtype: float64\n"
     ]
    }
   ],
   "source": [
    "# ETS Forecast\n",
    "ap_ETS_pred = ap_ETS_model.predict(fh) \n",
    "print(ap_ETS_pred)"
   ]
  },
  {
   "cell_type": "code",
   "execution_count": 62,
   "id": "e1ee4627",
   "metadata": {},
   "outputs": [
    {
     "name": "stdout",
     "output_type": "stream",
     "text": [
      "                                     SARIMAX Results                                     \n",
      "=========================================================================================\n",
      "Dep. Variable:                                 y   No. Observations:                  126\n",
      "Model:             SARIMAX(0, 1, 1)x(1, 0, 1, 4)   Log Likelihood                  57.028\n",
      "Date:                           Mon, 10 Oct 2022   AIC                           -106.057\n",
      "Time:                                   13:48:59   BIC                            -94.744\n",
      "Sample:                               03-31-1990   HQIC                          -101.461\n",
      "                                    - 09-30-2021                                         \n",
      "Covariance Type:                             opg                                         \n",
      "==============================================================================\n",
      "                 coef    std err          z      P>|z|      [0.025      0.975]\n",
      "------------------------------------------------------------------------------\n",
      "ma.L1         -0.3445      0.083     -4.164      0.000      -0.507      -0.182\n",
      "ar.S.L4        0.9343      0.055     16.932      0.000       0.826       1.042\n",
      "ma.S.L4       -0.5535      0.106     -5.228      0.000      -0.761      -0.346\n",
      "sigma2         0.0228      0.002     12.894      0.000       0.019       0.026\n",
      "===================================================================================\n",
      "Ljung-Box (L1) (Q):                   0.00   Jarque-Bera (JB):               324.82\n",
      "Prob(Q):                              0.99   Prob(JB):                         0.00\n",
      "Heteroskedasticity (H):               1.01   Skew:                            -1.07\n",
      "Prob(H) (two-sided):                  0.97   Kurtosis:                        10.60\n",
      "===================================================================================\n",
      "\n",
      "Warnings:\n",
      "[1] Covariance matrix calculated using the outer product of gradients (complex-step).\n"
     ]
    }
   ],
   "source": [
    "#ARIMA\n",
    "ap_ARIMA_Model = AutoARIMA(sp=4,suppress_warnings=True) \n",
    "ap_ARIMA_Model.fit(log_ap_ts) \n",
    "print(ap_ARIMA_Model.summary())"
   ]
  },
  {
   "cell_type": "markdown",
   "id": "19c64cbf",
   "metadata": {},
   "source": [
    "## PREGUNTAS:"
   ]
  },
  {
   "cell_type": "markdown",
   "id": "9e6b42ab",
   "metadata": {},
   "source": [
    "### Pregunta 1 y 2. Estacionariedad, tendencia y componente estacional"
   ]
  },
  {
   "cell_type": "code",
   "execution_count": null,
   "id": "259e3aa4",
   "metadata": {
    "scrolled": true
   },
   "outputs": [],
   "source": [
    "# Plot Data\n",
    "fig, ax =plot_series(aapl_dfsq, labels=[\"Ventas\"])\n",
    "ax.set_title('Ventas Apple: Gráfico Original')\n",
    "ax.legend(loc='upper left')\n",
    "ax.set_ylabel('Ventas')"
   ]
  },
  {
   "cell_type": "code",
   "execution_count": null,
   "id": "3b59e043",
   "metadata": {},
   "outputs": [],
   "source": [
    "# Plot Log Data\n",
    "fig, ax =plot_series(log_ap_ts, labels=[\"Ventas\"])\n",
    "ax.set_title('Ventas Apple: Transformación Log')\n",
    "ax.legend(loc='upper left')\n",
    "ax.set_ylabel('Ventas')"
   ]
  },
  {
   "cell_type": "code",
   "execution_count": null,
   "id": "47ff33f9",
   "metadata": {
    "scrolled": false
   },
   "outputs": [],
   "source": [
    "from statsmodels.tsa.seasonal import STL \n",
    "res = STL(aapl_dfs).fit()\n",
    "res.plot()\n",
    "plt.show()"
   ]
  },
  {
   "cell_type": "markdown",
   "id": "29260362",
   "metadata": {},
   "source": [
    "### Pregunta 3. Ventas anuales de Apple"
   ]
  },
  {
   "cell_type": "code",
   "execution_count": null,
   "id": "ebc944a6",
   "metadata": {},
   "outputs": [],
   "source": [
    "ap_year=aapl_dfsq.resample('y').sum() \n",
    "ap_year.tail(10)\n",
    "print('Ventas Anuales de Apple los Últimos 10 Años:')\n",
    "ap_year.tail(10)\n",
    "\n",
    "v=pd.DataFrame(ap_year.tail(10))\n",
    "v"
   ]
  },
  {
   "cell_type": "markdown",
   "id": "e7abdb22",
   "metadata": {},
   "source": [
    "### Pregunta 4. Crecimientos anuales de los ingresos"
   ]
  },
  {
   "cell_type": "code",
   "execution_count": null,
   "id": "fc31da88",
   "metadata": {
    "scrolled": false
   },
   "outputs": [],
   "source": [
    "c=pd.DataFrame (ap_year.pct_change().tail(10))\n",
    "c2=c.rename(columns={'Ingresos':'Crecimiento'})"
   ]
  },
  {
   "cell_type": "code",
   "execution_count": null,
   "id": "e9a4d622",
   "metadata": {},
   "outputs": [],
   "source": [
    "concat = pd.concat([v, c2], axis=1,)\n",
    "concat\n",
    "concat"
   ]
  },
  {
   "cell_type": "markdown",
   "id": "5d0116dd",
   "metadata": {},
   "source": [
    "### Pregunta 5. Qué modelo predice mejor"
   ]
  },
  {
   "cell_type": "markdown",
   "id": "67520570",
   "metadata": {},
   "source": [
    "### Pregunta 6. Efecto COVID"
   ]
  },
  {
   "cell_type": "markdown",
   "id": "7c37575c",
   "metadata": {},
   "source": [
    "### Pregunta 7. ventas acumuladas para el año 2021 y 2022\n"
   ]
  },
  {
   "cell_type": "code",
   "execution_count": 86,
   "id": "a44f1d96",
   "metadata": {
    "scrolled": true
   },
   "outputs": [
    {
     "name": "stdout",
     "output_type": "stream",
     "text": [
      "Ventas acumuladas para el año 2021, 2022 y 2023 con ETS\n"
     ]
    },
    {
     "data": {
      "text/html": [
       "<div>\n",
       "<style scoped>\n",
       "    .dataframe tbody tr th:only-of-type {\n",
       "        vertical-align: middle;\n",
       "    }\n",
       "\n",
       "    .dataframe tbody tr th {\n",
       "        vertical-align: top;\n",
       "    }\n",
       "\n",
       "    .dataframe thead th {\n",
       "        text-align: right;\n",
       "    }\n",
       "</style>\n",
       "<table border=\"1\" class=\"dataframe\">\n",
       "  <thead>\n",
       "    <tr style=\"text-align: right;\">\n",
       "      <th></th>\n",
       "      <th>0</th>\n",
       "    </tr>\n",
       "  </thead>\n",
       "  <tbody>\n",
       "    <tr>\n",
       "      <th>2021</th>\n",
       "      <td>436232.649432</td>\n",
       "    </tr>\n",
       "    <tr>\n",
       "      <th>2022</th>\n",
       "      <td>527116.956541</td>\n",
       "    </tr>\n",
       "    <tr>\n",
       "      <th>2023</th>\n",
       "      <td>137519.375077</td>\n",
       "    </tr>\n",
       "  </tbody>\n",
       "</table>\n",
       "</div>"
      ],
      "text/plain": [
       "                  0\n",
       "2021  436232.649432\n",
       "2022  527116.956541\n",
       "2023  137519.375077"
      ]
     },
     "execution_count": 86,
     "metadata": {},
     "output_type": "execute_result"
    }
   ],
   "source": [
    "print('Ventas acumuladas para el año 2021, 2022 y 2023 con ETS')\n",
    "pd.DataFrame(pd.concat([aapl_dfsq,ap_ETS_pred],axis=0).resample('A').sum()['2021':])"
   ]
  },
  {
   "cell_type": "code",
   "execution_count": 87,
   "id": "d62a0f0f",
   "metadata": {},
   "outputs": [
    {
     "name": "stdout",
     "output_type": "stream",
     "text": [
      "Ventas acumuladas para el año 2021 Y 2022 con ARIMA\n"
     ]
    },
    {
     "data": {
      "text/html": [
       "<div>\n",
       "<style scoped>\n",
       "    .dataframe tbody tr th:only-of-type {\n",
       "        vertical-align: middle;\n",
       "    }\n",
       "\n",
       "    .dataframe tbody tr th {\n",
       "        vertical-align: top;\n",
       "    }\n",
       "\n",
       "    .dataframe thead th {\n",
       "        text-align: right;\n",
       "    }\n",
       "</style>\n",
       "<table border=\"1\" class=\"dataframe\">\n",
       "  <thead>\n",
       "    <tr style=\"text-align: right;\">\n",
       "      <th></th>\n",
       "      <th>0</th>\n",
       "    </tr>\n",
       "  </thead>\n",
       "  <tbody>\n",
       "    <tr>\n",
       "      <th>2021</th>\n",
       "      <td>470935.770605</td>\n",
       "    </tr>\n",
       "  </tbody>\n",
       "</table>\n",
       "</div>"
      ],
      "text/plain": [
       "                  0\n",
       "2021  470935.770605"
      ]
     },
     "execution_count": 87,
     "metadata": {},
     "output_type": "execute_result"
    }
   ],
   "source": [
    "print('Ventas acumuladas para el año 2021 Y 2022 con ARIMA')\n",
    "pd.DataFrame(pd.concat([aapl_dfsq,ap_ARIMA_pred],axis=0).resample('A').sum()['2021':])\n"
   ]
  },
  {
   "cell_type": "markdown",
   "id": "e184cd87",
   "metadata": {},
   "source": [
    "### Pregunta 9. ¿Son creíbles las predicciones del Barclays?"
   ]
  }
 ],
 "metadata": {
  "kernelspec": {
   "display_name": "Python 3 (ipykernel)",
   "language": "python",
   "name": "python3"
  },
  "language_info": {
   "codemirror_mode": {
    "name": "ipython",
    "version": 3
   },
   "file_extension": ".py",
   "mimetype": "text/x-python",
   "name": "python",
   "nbconvert_exporter": "python",
   "pygments_lexer": "ipython3",
   "version": "3.9.7"
  }
 },
 "nbformat": 4,
 "nbformat_minor": 5
}
